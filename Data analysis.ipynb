{
 "cells": [
  {
   "cell_type": "code",
   "execution_count": 61,
   "id": "553fab87",
   "metadata": {},
   "outputs": [],
   "source": [
    "import pandas as pd\n",
    "from openpyxl import load_workbook\n",
    "import matplotlib.pyplot as plt"
   ]
  },
  {
   "cell_type": "code",
   "execution_count": 62,
   "id": "506d2c9d",
   "metadata": {},
   "outputs": [],
   "source": [
    "df = pd.read_excel('Formular_data.xlsx', engine='openpyxl')"
   ]
  },
  {
   "cell_type": "code",
   "execution_count": 63,
   "id": "7c8f7149",
   "metadata": {},
   "outputs": [],
   "source": [
    "df['Anzahl der Besuche'] = pd.to_numeric(df['Anzahl der Besuche'], errors='coerce').fillna(125)"
   ]
  },
  {
   "cell_type": "code",
   "execution_count": 64,
   "id": "e2ae7ebb",
   "metadata": {},
   "outputs": [
    {
     "data": {
      "text/html": [
       "<div>\n",
       "<style scoped>\n",
       "    .dataframe tbody tr th:only-of-type {\n",
       "        vertical-align: middle;\n",
       "    }\n",
       "\n",
       "    .dataframe tbody tr th {\n",
       "        vertical-align: top;\n",
       "    }\n",
       "\n",
       "    .dataframe thead th {\n",
       "        text-align: right;\n",
       "    }\n",
       "</style>\n",
       "<table border=\"1\" class=\"dataframe\">\n",
       "  <thead>\n",
       "    <tr style=\"text-align: right;\">\n",
       "      <th></th>\n",
       "      <th>Vorname</th>\n",
       "      <th>Nachname</th>\n",
       "      <th>Alter</th>\n",
       "      <th>Geschlecht</th>\n",
       "      <th>Staatsangehörigkeit</th>\n",
       "      <th>Anzahl der Besuche</th>\n",
       "      <th>Prüfungsstatus</th>\n",
       "    </tr>\n",
       "  </thead>\n",
       "  <tbody>\n",
       "    <tr>\n",
       "      <th>0</th>\n",
       "      <td>Roman</td>\n",
       "      <td>Odnolko</td>\n",
       "      <td>25.0</td>\n",
       "      <td>männlich</td>\n",
       "      <td>Ukraine</td>\n",
       "      <td>140</td>\n",
       "      <td>bestanden</td>\n",
       "    </tr>\n",
       "    <tr>\n",
       "      <th>1</th>\n",
       "      <td>NaN</td>\n",
       "      <td>NaN</td>\n",
       "      <td>NaN</td>\n",
       "      <td>männlich</td>\n",
       "      <td>NaN</td>\n",
       "      <td>150</td>\n",
       "      <td>bestanden</td>\n",
       "    </tr>\n",
       "    <tr>\n",
       "      <th>2</th>\n",
       "      <td>NaN</td>\n",
       "      <td>NaN</td>\n",
       "      <td>NaN</td>\n",
       "      <td>männlich</td>\n",
       "      <td>NaN</td>\n",
       "      <td>170</td>\n",
       "      <td>bestanden</td>\n",
       "    </tr>\n",
       "    <tr>\n",
       "      <th>3</th>\n",
       "      <td>NaN</td>\n",
       "      <td>NaN</td>\n",
       "      <td>NaN</td>\n",
       "      <td>männlich</td>\n",
       "      <td>NaN</td>\n",
       "      <td>37</td>\n",
       "      <td>nicht bestanden</td>\n",
       "    </tr>\n",
       "    <tr>\n",
       "      <th>4</th>\n",
       "      <td>NaN</td>\n",
       "      <td>NaN</td>\n",
       "      <td>NaN</td>\n",
       "      <td>männlich</td>\n",
       "      <td>NaN</td>\n",
       "      <td>60</td>\n",
       "      <td>nicht bestanden</td>\n",
       "    </tr>\n",
       "    <tr>\n",
       "      <th>5</th>\n",
       "      <td>NaN</td>\n",
       "      <td>NaN</td>\n",
       "      <td>NaN</td>\n",
       "      <td>männlich</td>\n",
       "      <td>NaN</td>\n",
       "      <td>147</td>\n",
       "      <td>bestanden</td>\n",
       "    </tr>\n",
       "    <tr>\n",
       "      <th>6</th>\n",
       "      <td>Anna</td>\n",
       "      <td>Odnolko</td>\n",
       "      <td>25.0</td>\n",
       "      <td>weiblich</td>\n",
       "      <td>Ukraine</td>\n",
       "      <td>150</td>\n",
       "      <td>bestanden</td>\n",
       "    </tr>\n",
       "  </tbody>\n",
       "</table>\n",
       "</div>"
      ],
      "text/plain": [
       "  Vorname Nachname  Alter Geschlecht Staatsangehörigkeit  Anzahl der Besuche  \\\n",
       "0   Roman  Odnolko   25.0   männlich             Ukraine                 140   \n",
       "1     NaN      NaN    NaN   männlich                 NaN                 150   \n",
       "2     NaN      NaN    NaN   männlich                 NaN                 170   \n",
       "3     NaN      NaN    NaN   männlich                 NaN                  37   \n",
       "4     NaN      NaN    NaN   männlich                 NaN                  60   \n",
       "5     NaN      NaN    NaN   männlich                 NaN                 147   \n",
       "6    Anna  Odnolko   25.0   weiblich             Ukraine                 150   \n",
       "\n",
       "    Prüfungsstatus  \n",
       "0        bestanden  \n",
       "1        bestanden  \n",
       "2        bestanden  \n",
       "3  nicht bestanden  \n",
       "4  nicht bestanden  \n",
       "5        bestanden  \n",
       "6        bestanden  "
      ]
     },
     "execution_count": 64,
     "metadata": {},
     "output_type": "execute_result"
    }
   ],
   "source": [
    "df"
   ]
  },
  {
   "cell_type": "code",
   "execution_count": 65,
   "id": "e814de86",
   "metadata": {},
   "outputs": [],
   "source": [
    "df = df.sort_values(by='Anzahl der Besuche')"
   ]
  },
  {
   "cell_type": "code",
   "execution_count": 66,
   "id": "3f2defd5",
   "metadata": {},
   "outputs": [
    {
     "data": {
      "text/plain": [
       "3     37\n",
       "4     60\n",
       "0    140\n",
       "5    147\n",
       "1    150\n",
       "6    150\n",
       "2    170\n",
       "Name: Anzahl der Besuche, dtype: int64"
      ]
     },
     "execution_count": 66,
     "metadata": {},
     "output_type": "execute_result"
    }
   ],
   "source": [
    "df['Anzahl der Besuche']"
   ]
  },
  {
   "cell_type": "code",
   "execution_count": 67,
   "id": "3d67ea4a",
   "metadata": {},
   "outputs": [
    {
     "data": {
      "image/png": "[encoded data removed]",
      "text/plain": [
       "<Figure size 800x600 with 1 Axes>"
      ]
     },
     "metadata": {},
     "output_type": "display_data"
    }
   ],
   "source": [
    "status_map = {'bestanden': 1, 'nicht bestanden': 0}\n",
    "df['num_status'] = df['Prüfungsstatus'].map(status_map)\n",
    "plt.figure(figsize=(8, 6))\n",
    "plt.scatter(df['Anzahl der Besuche'], df['num_status'], color=df['num_status'].apply(lambda x: 'green' if x == 1 else 'red'))\n",
    "\n",
    "# Настройка графика\n",
    "plt.title('Abhängigkeit der Anwesenheit vom erfolgreichen Bestehen von Prüfungen')\n",
    "plt.xlabel('Anzahl der Besuche')\n",
    "plt.yticks([0,1],['nicht bestanden','bestanden'])\n",
    "plt.grid(True)\n",
    "plt.show()"
   ]
  },
  {
   "cell_type": "code",
   "execution_count": null,
   "id": "00f12646",
   "metadata": {},
   "outputs": [],
   "source": []
  },
  {
   "cell_type": "code",
   "execution_count": null,
   "id": "53f7dbe1",
   "metadata": {},
   "outputs": [],
   "source": []
  }
 ],
 "metadata": {
  "kernelspec": {
   "display_name": "Python 3 (ipykernel)",
   "language": "python",
   "name": "python3"
  },
  "language_info": {
   "codemirror_mode": {
    "name": "ipython",
    "version": 3
   },
   "file_extension": ".py",
   "mimetype": "text/x-python",
   "name": "python",
   "nbconvert_exporter": "python",
   "pygments_lexer": "ipython3",
   "version": "3.7.0"
  }
 },
 "nbformat": 4,
 "nbformat_minor": 5
}
